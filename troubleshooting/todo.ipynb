{
 "cells": [
  {
   "cell_type": "markdown",
   "metadata": {},
   "source": [
    "![todo 1](todo%20-%201%20-%20navbar%20disappearing%20items.png) \n",
    "## item couldnt see icons when it got too minimized. \n",
    "resolved\n",
    "\n",
    "![notes 1](todo%20-%201%20-%20navbar%20notes.png)\n",
    "## not a to do\n",
    "p-6 = padding of 6\n",
    "mx = margin horizontal, my = margin horizontal\n",
    "min-w = width\n",
    "z-10 = shown over other elements\n",
    "\n",
    "![notes 2](todo%20-%202%20-%20navbar%20button%20overlap%20issue.png)\n",
    "## not a to do\n",
    "was having an issue with not being able to select the \"2nd\" button in the navbar drop down on small mode despite it working full screen.\n",
    "it was an overlay or stack issue as when I attempted to selected the 2nd element in the bar it would highlight items on the lefthand side (specifically the unimplemented future button \"contact\"). by adding the z-20 component this brought the element to the front and resolved the issue.\n",
    "\n",
    "#### actual todo\n",
    "TODO: updated Hero.jsx self description. current says \"I am making a website to get a job\" take note of the added break. it isnt necessarily normal text. the break my need to be moved or just test with different sized windows depending on how long I make the actual description. \n",
    "\n",
    "![update 3d model](todo%20-%20notes%20-%203d%20model%20update.png) \n",
    "TODO: get a new 3d model. the image above is where to change the lighting on it (in Computers.jsx... Suppose would have to rename that too)\n",
    "\n",
    "![little scrolly wheel](todo%20-%20notes%20-%20little%20scrolly%20wheel.png)\n",
    "## how to make the little scrolly wheel\n",
    "\n",
    "![tilting buttons](todo%20-%20notes%20-%20tilted%20icons%20images%20not%20appearing.png)\n",
    "## to change the images here we need to change the underlying icons 'files' that are in the assets folder\n",
    "notes: i had {...services} instead of {...service} which caused the alt tag to appear instead of the icon. if you want to update the icons you have to go to:\n",
    "![tilt icon location](<script src=\"http://localhost:8097\"></script>todo%20-%20notes%20-%20tilt%20icon%20location%20and%20tags.png) \n",
    "\n",
    "TODO: Update index.js with work experience from resume\n",
    "TODO: get logos for companys\n",
    "\n",
    "![mirrored balls](todo%20-%20notes%20-%20mirror%20the%20text%20on%20the%20balls%20with%202xMath_pi.png)\n",
    "mirror them balls with rotation 2 * Math.PI\n",
    "\n",
    "TODO: update works\n",
    "\n",
    "![icon button link](todo%20-%20notes%20-%20adding%20another%20div%20adds%20another%20icon%20and%20url.png)\n",
    "in the works page if you wanna add another icon, add another div like in here. have to add the image and stuff as well. \n"
   ]
  },
  {
   "cell_type": "markdown",
   "metadata": {},
   "source": []
  }
 ],
 "metadata": {
  "language_info": {
   "name": "python"
  }
 },
 "nbformat": 4,
 "nbformat_minor": 2
}
